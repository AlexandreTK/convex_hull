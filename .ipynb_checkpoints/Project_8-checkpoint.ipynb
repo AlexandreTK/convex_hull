{
 "cells": [
  {
   "cell_type": "code",
   "execution_count": 1,
   "metadata": {},
   "outputs": [],
   "source": [
    "import matplotlib.pyplot as plt\n",
    "import matplotlib.image as mpimg\n",
    "import numpy as np\n",
    "#from skimage import exposure"
   ]
  },
  {
   "cell_type": "code",
   "execution_count": 2,
   "metadata": {},
   "outputs": [],
   "source": [
    "def plot_0_1_image(img, description):\n",
    "    img = img.copy()\n",
    "    img = (img - 1)*(-255)\n",
    "    plt.title(description)\n",
    "    plt.imshow(img, cmap='gray', vmin=0, vmax=255)\n",
    "    plt.axis('off')\n",
    "    plt.show()"
   ]
  },
  {
   "cell_type": "code",
   "execution_count": 4,
   "metadata": {},
   "outputs": [],
   "source": [
    "image_9_19_b = np.matrix([[0,0,0,0,0,0,0,0,0,0,0],\n",
    "                          [0,0,0,1,1,1,0,0,0,0,0],\n",
    "                          [0,0,1,1,1,1,1,0,0,0,0],\n",
    "                          [0,0,1,1,1,1,0,0,0,0,0],\n",
    "                          [0,0,0,0,1,1,0,1,0,0,0],\n",
    "                          [0,0,0,0,1,1,0,1,0,0,0],\n",
    "                          [0,0,0,0,1,1,1,0,0,0,0],\n",
    "                          [0,0,0,0,0,0,1,0,0,0,0],\n",
    "                          [0,0,0,0,0,0,1,0,0,0,0],\n",
    "                          [0,0,0,0,0,1,1,0,0,0,0],\n",
    "                          [0,0,0,0,0,1,0,0,0,0,0],\n",
    "                          [0,0,0,0,0,0,0,0,0,0,0]])\n",
    "\n",
    "\n",
    "structuring_element_b1 = np.matrix([[1,-1,-1],\n",
    "                                   [1,0,-1],\n",
    "                                   [1,-1,-1]])\n",
    "structuring_element_b2 = np.matrix([[1,1,1],\n",
    "                                   [-1,0,-1],\n",
    "                                   [-1,-1,-1]])\n",
    "\n",
    "structuring_element_b3 = np.matrix([[-1,-1,1],\n",
    "                                   [-1,0,1],\n",
    "                                   [-1,-1,1]])\n",
    "\n",
    "structuring_element_b4 = np.matrix([[-1,-1,-1],\n",
    "                                   [-1,0,-1],\n",
    "                                   [1,1,1]])\n"
   ]
  },
  {
   "cell_type": "code",
   "execution_count": 5,
   "metadata": {},
   "outputs": [
    {
     "data": {
      "image/png": "[encoded data removed]",
      "text/plain": [
       "<Figure size 432x288 with 1 Axes>"
      ]
     },
     "metadata": {
      "needs_background": "light"
     },
     "output_type": "display_data"
    }
   ],
   "source": [
    "\n",
    "plot_0_1_image(image_9_19_b, 'img 9.19b')"
   ]
  },
  {
   "cell_type": "code",
   "execution_count": 32,
   "metadata": {},
   "outputs": [],
   "source": [
    "def compare_subimage(subimage, structuring_elem):\n",
    "    subimage_shape = subimage.shape\n",
    "    \n",
    "    if subimage_shape != structuring_elem.shape:\n",
    "        return False\n",
    "    \n",
    "    \n",
    "    for x in range(subimage_shape[0]):\n",
    "        for y in range(subimage_shape[1]):\n",
    "            if ((subimage[x,y] != structuring_elem[x,y]) \\\n",
    "                and (structuring_elem[x,y] != -1)):\n",
    "                return False\n",
    "    return True\n",
    "    \n",
    "def hit_or_miss(img, structuring_elem):\n",
    "    num_of_hits = 0\n",
    "    img_shape = img.shape\n",
    "    \n",
    "    for x in range(1, (img_shape[0]-1)):\n",
    "        for y in range(1, (img_shape[1]-1)):\n",
    "            hit = compare_subimage(img[x-1:x+2, y-1:y+2], structuring_elem)\n",
    "            # display(img[x-1:x+2, y-1:y+2])\n",
    "            # display(structuring_elem)\n",
    "            if (hit == True):\n",
    "                img[x,y] = 2\n",
    "                num_of_hits += 1\n",
    "    img[img == 2] = 1            \n",
    "    return num_of_hits\n",
    "\n",
    "\n",
    "def iterate_hit_or_miss(img, structuring_elements):\n",
    "    img = img.copy()\n",
    "    img = np.pad(img, ((1, 1), (1, 1)), 'constant')\n",
    "    element_counter = 1\n",
    "    \n",
    "    plot_0_1_image(img, 'Original image with padding')\n",
    "    for str_elem in structuring_elements:\n",
    "        num_of_hits = 1 # >= 1\n",
    "        while(num_of_hits > 0):\n",
    "            num_of_hits = hit_or_miss(img, str_elem)\n",
    "            #display(num_of_hits)\n",
    "            str_description = 'element: '+str(element_counter)+' | hits: '+ str(num_of_hits)\n",
    "            plot_0_1_image(img, str_description)\n",
    "        #plot_0_1_image(img, 'iterations')\n",
    "        \n",
    "        element_counter += 1\n",
    "    img = img[1:-1,1:-1]\n",
    "    \n",
    "    plot_0_1_image(img, 'Final Image')\n",
    "    return img\n",
    "            \n",
    "        "
   ]
  },
  {
   "cell_type": "code",
   "execution_count": 33,
   "metadata": {
    "scrolled": false
   },
   "outputs": [
    {
     "data": {
      "image/png": "[encoded data removed]",
      "text/plain": [
       "<Figure size 432x288 with 1 Axes>"
      ]
     },
     "metadata": {
      "needs_background": "light"
     },
     "output_type": "display_data"
    },
    {
     "data": {
      "image/png": "[encoded data removed]",
      "text/plain": [
       "<Figure size 432x288 with 1 Axes>"
      ]
     },
     "metadata": {
      "needs_background": "light"
     },
     "output_type": "display_data"
    },
    {
     "data": {
      "image/png": "[encoded data removed]",
      "text/plain": [
       "<Figure size 432x288 with 1 Axes>"
      ]
     },
     "metadata": {
      "needs_background": "light"
     },
     "output_type": "display_data"
    },
    {
     "data": {
      "image/png": "[encoded data removed]",
      "text/plain": [
       "<Figure size 432x288 with 1 Axes>"
      ]
     },
     "metadata": {
      "needs_background": "light"
     },
     "output_type": "display_data"
    },
    {
     "data": {
      "image/png": "[encoded data removed]",
      "text/plain": [
       "<Figure size 432x288 with 1 Axes>"
      ]
     },
     "metadata": {
      "needs_background": "light"
     },
     "output_type": "display_data"
    },
    {
     "data": {
      "image/png": "[encoded data removed]",
      "text/plain": [
       "<Figure size 432x288 with 1 Axes>"
      ]
     },
     "metadata": {
      "needs_background": "light"
     },
     "output_type": "display_data"
    },
    {
     "data": {
      "image/png": "[encoded data removed]",
      "text/plain": [
       "<Figure size 432x288 with 1 Axes>"
      ]
     },
     "metadata": {
      "needs_background": "light"
     },
     "output_type": "display_data"
    },
    {
     "data": {
      "image/png": "[encoded data removed]",
      "text/plain": [
       "<Figure size 432x288 with 1 Axes>"
      ]
     },
     "metadata": {
      "needs_background": "light"
     },
     "output_type": "display_data"
    },
    {
     "data": {
      "image/png": "[encoded data removed]",
      "text/plain": [
       "<Figure size 432x288 with 1 Axes>"
      ]
     },
     "metadata": {
      "needs_background": "light"
     },
     "output_type": "display_data"
    },
    {
     "data": {
      "image/png": "[encoded data removed]",
      "text/plain": [
       "<Figure size 432x288 with 1 Axes>"
      ]
     },
     "metadata": {
      "needs_background": "light"
     },
     "output_type": "display_data"
    },
    {
     "data": {
      "image/png": "[encoded data removed]",
      "text/plain": [
       "<Figure size 432x288 with 1 Axes>"
      ]
     },
     "metadata": {
      "needs_background": "light"
     },
     "output_type": "display_data"
    },
    {
     "data": {
      "image/png": "[encoded data removed]",
      "text/plain": [
       "<Figure size 432x288 with 1 Axes>"
      ]
     },
     "metadata": {
      "needs_background": "light"
     },
     "output_type": "display_data"
    },
    {
     "data": {
      "image/png": "[encoded data removed]",
      "text/plain": [
       "<Figure size 432x288 with 1 Axes>"
      ]
     },
     "metadata": {
      "needs_background": "light"
     },
     "output_type": "display_data"
    },
    {
     "data": {
      "image/png": "[encoded data removed]",
      "text/plain": [
       "<Figure size 432x288 with 1 Axes>"
      ]
     },
     "metadata": {
      "needs_background": "light"
     },
     "output_type": "display_data"
    },
    {
     "data": {
      "image/png": "[encoded data removed]",
      "text/plain": [
       "<Figure size 432x288 with 1 Axes>"
      ]
     },
     "metadata": {
      "needs_background": "light"
     },
     "output_type": "display_data"
    },
    {
     "data": {
      "image/png": "[encoded data removed]",
      "text/plain": [
       "<Figure size 432x288 with 1 Axes>"
      ]
     },
     "metadata": {
      "needs_background": "light"
     },
     "output_type": "display_data"
    },
    {
     "data": {
      "image/png": "[encoded data removed]",
      "text/plain": [
       "<Figure size 432x288 with 1 Axes>"
      ]
     },
     "metadata": {
      "needs_background": "light"
     },
     "output_type": "display_data"
    },
    {
     "data": {
      "image/png": "[encoded data removed]",
      "text/plain": [
       "<Figure size 432x288 with 1 Axes>"
      ]
     },
     "metadata": {
      "needs_background": "light"
     },
     "output_type": "display_data"
    }
   ],
   "source": [
    "structuring_elements = [structuring_element_b1, structuring_element_b2, \\\n",
    "                       structuring_element_b3, structuring_element_b4]\n",
    "\n",
    "\n",
    "convex_image = iterate_hit_or_miss(image_9_19_b, structuring_elements)\n"
   ]
  },
  {
   "cell_type": "code",
   "execution_count": 108,
   "metadata": {},
   "outputs": [
    {
     "data": {
      "image/png": "[encoded data removed]",
      "text/plain": [
       "<Figure size 432x288 with 1 Axes>"
      ]
     },
     "metadata": {
      "needs_background": "light"
     },
     "output_type": "display_data"
    }
   ],
   "source": [
    "#display(convex_image)\n",
    "#display(image_9_19_b)\n",
    "\n",
    "def get_image_boundaries(img):\n",
    "    counter_rows = np.zeros(img.shape[1])\n",
    "    for rows in img:\n",
    "        counter_rows = np.add(rows, counter)\n",
    "    boundary_indices = np.where(counter_rows > 0)\n",
    "    column_boundaries = ([boundary_indices[1][0], boundary_indices[1][-1]])\n",
    "\n",
    "    counter_cols = np.zeros(img.shape[0])\n",
    "    for cols in img.transpose():\n",
    "        counter_cols = np.add(cols, counter_cols)\n",
    "    boundary_indices = np.where(counter_cols > 0)\n",
    "    row_boundaries = ([boundary_indices[1][0], boundary_indices[1][-1]])\n",
    "\n",
    "    return [column_boundaries, row_boundaries]\n",
    "\n",
    "\n",
    "def get_limited_convex_hull(original_img, convex_image):\n",
    "    [column_limit, row_limit] = get_image_boundaries(original_img)\n",
    "    column_limit_left = column_limit[0]\n",
    "    column_limit_right = column_limit[1]\n",
    "    row_limit_up = row_limit[0]\n",
    "    row_limit_down = row_limit[1]\n",
    "    \n",
    "    convex_image = convex_image.copy()\n",
    "    convex_image[:, 0:column_limit_left] = 0\n",
    "    convex_image[:, column_limit_right+1:-1] = 0\n",
    "    convex_image[0:row_limit_up, :] = 0\n",
    "    convex_image[row_limit_down+1:-1, :] = 0\n",
    "    return (convex_image)\n",
    "\n",
    "\n",
    "\n",
    "limited_convex_image = get_limited_convex_hull(image_9_19_b, convex_image)\n",
    "#display(image_9_19_b)\n",
    "#display(convex_image)\n",
    "#plot_0_1_image(convex_image, \"Limited convex image\")\n",
    "plot_0_1_image(limited_convex_image, \"Limited convex image\")"
   ]
  },
  {
   "cell_type": "code",
   "execution_count": null,
   "metadata": {},
   "outputs": [],
   "source": []
  }
 ],
 "metadata": {
  "kernelspec": {
   "display_name": "PDI Kernel",
   "language": "python",
   "name": "pdi_kernel"
  },
  "language_info": {
   "codemirror_mode": {
    "name": "ipython",
    "version": 3
   },
   "file_extension": ".py",
   "mimetype": "text/x-python",
   "name": "python",
   "nbconvert_exporter": "python",
   "pygments_lexer": "ipython3",
   "version": "3.7.0"
  }
 },
 "nbformat": 4,
 "nbformat_minor": 2
}
